{
 "cells": [
  {
   "cell_type": "code",
   "execution_count": 1,
   "id": "65cb41f5",
   "metadata": {},
   "outputs": [
    {
     "name": "stdout",
     "output_type": "stream",
     "text": [
      "Connecting to wss://anvil.works/uplink\n",
      "Anvil websocket open\n",
      "Connected to \"Default Environment\" as SERVER\n"
     ]
    }
   ],
   "source": [
    "import anvil.server\n",
    "\n",
    "anvil.server.connect(\"server_OUEVHIIMUUDZGBNY2IUSDSHX-F5ZYVSWLOFRNXXQI\")"
   ]
  },
  {
   "cell_type": "code",
   "execution_count": 2,
   "id": "c485d752",
   "metadata": {},
   "outputs": [
    {
     "name": "stderr",
     "output_type": "stream",
     "text": [
      "[nltk_data] Downloading package stopwords to\n",
      "[nltk_data]     C:\\Users\\Danyal\\AppData\\Roaming\\nltk_data...\n",
      "[nltk_data]   Package stopwords is already up-to-date!\n"
     ]
    },
    {
     "name": "stdout",
     "output_type": "stream",
     "text": [
      "showing info https://raw.githubusercontent.com/nltk/nltk_data/gh-pages/index.xml\n"
     ]
    }
   ],
   "source": [
    "from bs4 import BeautifulSoup\n",
    "import requests as rq\n",
    "import urllib.request\n",
    "import os\n",
    "import re\n",
    "import pandas as pd\n",
    "\n",
    "import nltk\n",
    "from nltk.corpus import stopwords\n",
    "nltk.download('stopwords')\n",
    "nltk.download()\n",
    "from nltk.stem import PorterStemmer\n",
    "porter = PorterStemmer()\n",
    "\n",
    "from nltk.stem import WordNetLemmatizer\n",
    "wordnet_lemmatizer = WordNetLemmatizer()\n",
    "from nltk.corpus import wordnet"
   ]
  },
  {
   "cell_type": "code",
   "execution_count": 52,
   "id": "83234cd7",
   "metadata": {},
   "outputs": [],
   "source": [
    "\n",
    "animals = ['tiger', 'cat', 'dog', 'horse', 'elephant', 'rhino', 'monkey', 'deer', 'kangaroo', 'bear', 'giraffe', 'koala', 'Cow', 'frog', 'crocodile', 'penguin', 'squirrel']\n",
    "headers = {'User-Agent':'Mozilla/5.0 (Windows NT 10.0; Win64; x64) AppleWebKit/537.36 (KHTML, like Gecko) Chrome/58.0.3029.110 Safari/537.3'}\n",
    "a_link ='https://unsplash.com/s/photos/'\n",
    "#r2 = rq.get(\"https://unsplash.com/s/photos/cat\", headers = headers)\n",
    "#soup = BeautifulSoup(r2.text,\"lxml\")\n",
    "#links = []"
   ]
  },
  {
   "cell_type": "code",
   "execution_count": 15,
   "id": "9f7a74db",
   "metadata": {},
   "outputs": [],
   "source": [
    "def none_type_clean(s):\n",
    "    if s is None:\n",
    "        return ''\n",
    "    else:\n",
    "        return s"
   ]
  },
  {
   "cell_type": "code",
   "execution_count": 99,
   "id": "8455ebff",
   "metadata": {},
   "outputs": [],
   "source": [
    "tag = []\n",
    "t_imgs = []\n",
    "t_src = []\n",
    "for i in animals:\n",
    "    links = []\n",
    "    r2 = rq.get(a_link + i, headers = headers)\n",
    "    soup = BeautifulSoup(r2.text,\"lxml\")\n",
    "    \n",
    "    images = soup.select('img[src^=\"https://images.unsplash.com/photo\"]')\n",
    "    #print(images)\n",
    "    for img in images:\n",
    "        t_imgs.append(img)\n",
    "#         links.append(img['src'])\n",
    "        t_src.append(img['src'])\n",
    "        tag.append(i)\n",
    "#     os.mkdir(i)\n",
    "    \n",
    "#     j=1\n",
    "#     for index,img_link in enumerate(links):\n",
    "#         if j<=100:\n",
    "#             img_data = rq.get(img_link).content\n",
    "#             with open(i+\"//\"+str(index+1)+'.jpg', 'wb+') as f:\n",
    "#                 f.write(img_data)\n",
    "#             j+=1\n",
    "#         else:\n",
    "#             f.close()\n",
    "#             break"
   ]
  },
  {
   "cell_type": "code",
   "execution_count": 100,
   "id": "f0460382",
   "metadata": {},
   "outputs": [
    {
     "data": {
      "text/plain": [
       "1099"
      ]
     },
     "execution_count": 100,
     "metadata": {},
     "output_type": "execute_result"
    }
   ],
   "source": [
    "len(t_imgs)"
   ]
  },
  {
   "cell_type": "code",
   "execution_count": 101,
   "id": "1b6992d6",
   "metadata": {},
   "outputs": [],
   "source": [
    "imgs = []\n",
    "for img in t_imgs:\n",
    "    imgs.append(str(img))\n",
    "        \n"
   ]
  },
  {
   "cell_type": "code",
   "execution_count": 102,
   "id": "cd4c929b",
   "metadata": {},
   "outputs": [
    {
     "data": {
      "text/plain": [
       "'<img alt=\"Bengal tiger\" class=\"YVj9w\" data-perf=\"eager-loaded-img\" data-test=\"photo-grid-multi-col-img\" itemprop=\"thumbnailUrl\" sizes=\"(min-width: 1335px) 416px, (min-width: 992px) calc(calc(100vw - 72px) / 3), (min-width: 768px) calc(calc(100vw - 48px) / 2), 100vw\" src=\"https://images.unsplash.com/photo-1561731216-c3a4d99437d5?ixlib=rb-1.2.1&amp;ixid=MnwxMjA3fDB8MHxzZWFyY2h8MXx8dGlnZXJ8ZW58MHx8MHx8&amp;w=1000&amp;q=80\" srcset=\"https://images.unsplash.com/photo-1561731216-c3a4d99437d5?ixlib=rb-1.2.1&amp;ixid=MnwxMjA3fDB8MHxzZWFyY2h8MXx8dGlnZXJ8ZW58MHx8MHx8&amp;auto=format&amp;fit=crop&amp;w=100&amp;q=60 100w, https://images.unsplash.com/photo-1561731216-c3a4d99437d5?ixlib=rb-1.2.1&amp;ixid=MnwxMjA3fDB8MHxzZWFyY2h8MXx8dGlnZXJ8ZW58MHx8MHx8&amp;auto=format&amp;fit=crop&amp;w=200&amp;q=60 200w, https://images.unsplash.com/photo-1561731216-c3a4d99437d5?ixlib=rb-1.2.1&amp;ixid=MnwxMjA3fDB8MHxzZWFyY2h8MXx8dGlnZXJ8ZW58MHx8MHx8&amp;auto=format&amp;fit=crop&amp;w=300&amp;q=60 300w, https://images.unsplash.com/photo-1561731216-c3a4d99437d5?ixlib=rb-1.2.1&amp;ixid=MnwxMjA3fDB8MHxzZWFyY2h8MXx8dGlnZXJ8ZW58MHx8MHx8&amp;auto=format&amp;fit=crop&amp;w=400&amp;q=60 400w, https://images.unsplash.com/photo-1561731216-c3a4d99437d5?ixlib=rb-1.2.1&amp;ixid=MnwxMjA3fDB8MHxzZWFyY2h8MXx8dGlnZXJ8ZW58MHx8MHx8&amp;auto=format&amp;fit=crop&amp;w=500&amp;q=60 500w, https://images.unsplash.com/photo-1561731216-c3a4d99437d5?ixlib=rb-1.2.1&amp;ixid=MnwxMjA3fDB8MHxzZWFyY2h8MXx8dGlnZXJ8ZW58MHx8MHx8&amp;auto=format&amp;fit=crop&amp;w=600&amp;q=60 600w, https://images.unsplash.com/photo-1561731216-c3a4d99437d5?ixlib=rb-1.2.1&amp;ixid=MnwxMjA3fDB8MHxzZWFyY2h8MXx8dGlnZXJ8ZW58MHx8MHx8&amp;auto=format&amp;fit=crop&amp;w=700&amp;q=60 700w, https://images.unsplash.com/photo-1561731216-c3a4d99437d5?ixlib=rb-1.2.1&amp;ixid=MnwxMjA3fDB8MHxzZWFyY2h8MXx8dGlnZXJ8ZW58MHx8MHx8&amp;auto=format&amp;fit=crop&amp;w=800&amp;q=60 800w, https://images.unsplash.com/photo-1561731216-c3a4d99437d5?ixlib=rb-1.2.1&amp;ixid=MnwxMjA3fDB8MHxzZWFyY2h8MXx8dGlnZXJ8ZW58MHx8MHx8&amp;auto=format&amp;fit=crop&amp;w=900&amp;q=60 900w, https://images.unsplash.com/photo-1561731216-c3a4d99437d5?ixlib=rb-1.2.1&amp;ixid=MnwxMjA3fDB8MHxzZWFyY2h8MXx8dGlnZXJ8ZW58MHx8MHx8&amp;auto=format&amp;fit=crop&amp;w=1000&amp;q=60 1000w, https://images.unsplash.com/photo-1561731216-c3a4d99437d5?ixlib=rb-1.2.1&amp;ixid=MnwxMjA3fDB8MHxzZWFyY2h8MXx8dGlnZXJ8ZW58MHx8MHx8&amp;auto=format&amp;fit=crop&amp;w=1100&amp;q=60 1100w, https://images.unsplash.com/photo-1561731216-c3a4d99437d5?ixlib=rb-1.2.1&amp;ixid=MnwxMjA3fDB8MHxzZWFyY2h8MXx8dGlnZXJ8ZW58MHx8MHx8&amp;auto=format&amp;fit=crop&amp;w=1200&amp;q=60 1200w, https://images.unsplash.com/photo-1561731216-c3a4d99437d5?ixlib=rb-1.2.1&amp;ixid=MnwxMjA3fDB8MHxzZWFyY2h8MXx8dGlnZXJ8ZW58MHx8MHx8&amp;auto=format&amp;fit=crop&amp;w=1296&amp;q=60 1296w, https://images.unsplash.com/photo-1561731216-c3a4d99437d5?ixlib=rb-1.2.1&amp;ixid=MnwxMjA3fDB8MHxzZWFyY2h8MXx8dGlnZXJ8ZW58MHx8MHx8&amp;auto=format&amp;fit=crop&amp;w=1400&amp;q=60 1400w, https://images.unsplash.com/photo-1561731216-c3a4d99437d5?ixlib=rb-1.2.1&amp;ixid=MnwxMjA3fDB8MHxzZWFyY2h8MXx8dGlnZXJ8ZW58MHx8MHx8&amp;auto=format&amp;fit=crop&amp;w=1600&amp;q=60 1600w, https://images.unsplash.com/photo-1561731216-c3a4d99437d5?ixlib=rb-1.2.1&amp;ixid=MnwxMjA3fDB8MHxzZWFyY2h8MXx8dGlnZXJ8ZW58MHx8MHx8&amp;auto=format&amp;fit=crop&amp;w=1800&amp;q=60 1800w, https://images.unsplash.com/photo-1561731216-c3a4d99437d5?ixlib=rb-1.2.1&amp;ixid=MnwxMjA3fDB8MHxzZWFyY2h8MXx8dGlnZXJ8ZW58MHx8MHx8&amp;auto=format&amp;fit=crop&amp;w=2000&amp;q=60 2000w, https://images.unsplash.com/photo-1561731216-c3a4d99437d5?ixlib=rb-1.2.1&amp;ixid=MnwxMjA3fDB8MHxzZWFyY2h8MXx8dGlnZXJ8ZW58MHx8MHx8&amp;auto=format&amp;fit=crop&amp;w=2200&amp;q=60 2200w, https://images.unsplash.com/photo-1561731216-c3a4d99437d5?ixlib=rb-1.2.1&amp;ixid=MnwxMjA3fDB8MHxzZWFyY2h8MXx8dGlnZXJ8ZW58MHx8MHx8&amp;auto=format&amp;fit=crop&amp;w=2400&amp;q=60 2400w, https://images.unsplash.com/photo-1561731216-c3a4d99437d5?ixlib=rb-1.2.1&amp;ixid=MnwxMjA3fDB8MHxzZWFyY2h8MXx8dGlnZXJ8ZW58MHx8MHx8&amp;auto=format&amp;fit=crop&amp;w=2592&amp;q=60 2592w\"/>'"
      ]
     },
     "execution_count": 102,
     "metadata": {},
     "output_type": "execute_result"
    }
   ],
   "source": [
    "imgs[0]"
   ]
  },
  {
   "cell_type": "code",
   "execution_count": 117,
   "id": "6ff3fd08",
   "metadata": {},
   "outputs": [],
   "source": [
    "title = []\n",
    "\n",
    "for i in imgs:\n",
    "    title.append(re.search('<img alt=\"(.+?)\"',i))"
   ]
  },
  {
   "cell_type": "code",
   "execution_count": 118,
   "id": "1799d96f",
   "metadata": {},
   "outputs": [
    {
     "data": {
      "text/plain": [
       "1099"
      ]
     },
     "execution_count": 118,
     "metadata": {},
     "output_type": "execute_result"
    }
   ],
   "source": [
    "len(title)"
   ]
  },
  {
   "cell_type": "code",
   "execution_count": 119,
   "id": "029e988c",
   "metadata": {},
   "outputs": [],
   "source": [
    "# title[2].group()\n",
    "for i in range (0,len(title)-1):\n",
    "    if title[i] == None:\n",
    "        title[i] = none_type_clean(title[i])\n",
    "        continue\n",
    "    title[i] = title[i].group()\n",
    "    title[i] = title[i][10:-1]"
   ]
  },
  {
   "cell_type": "code",
   "execution_count": 120,
   "id": "ef6ce677",
   "metadata": {},
   "outputs": [
    {
     "data": {
      "text/plain": [
       "'Bengal tiger'"
      ]
     },
     "execution_count": 120,
     "metadata": {},
     "output_type": "execute_result"
    }
   ],
   "source": [
    "title[0]"
   ]
  },
  {
   "cell_type": "code",
   "execution_count": 123,
   "id": "7c78a15d",
   "metadata": {},
   "outputs": [],
   "source": [
    "df = pd.DataFrame()"
   ]
  },
  {
   "cell_type": "code",
   "execution_count": 124,
   "id": "e7e9500d",
   "metadata": {},
   "outputs": [],
   "source": [
    "df['links'] = t_src"
   ]
  },
  {
   "cell_type": "code",
   "execution_count": 125,
   "id": "3e2408da",
   "metadata": {},
   "outputs": [],
   "source": [
    "df['tag'] = tag"
   ]
  },
  {
   "cell_type": "code",
   "execution_count": 212,
   "id": "318ffe3a",
   "metadata": {},
   "outputs": [],
   "source": [
    "df['text'] = title"
   ]
  },
  {
   "cell_type": "code",
   "execution_count": 41,
   "id": "47e453eb",
   "metadata": {},
   "outputs": [
    {
     "data": {
      "text/html": [
       "<div>\n",
       "<style scoped>\n",
       "    .dataframe tbody tr th:only-of-type {\n",
       "        vertical-align: middle;\n",
       "    }\n",
       "\n",
       "    .dataframe tbody tr th {\n",
       "        vertical-align: top;\n",
       "    }\n",
       "\n",
       "    .dataframe thead th {\n",
       "        text-align: right;\n",
       "    }\n",
       "</style>\n",
       "<table border=\"1\" class=\"dataframe\">\n",
       "  <thead>\n",
       "    <tr style=\"text-align: right;\">\n",
       "      <th></th>\n",
       "      <th>links</th>\n",
       "      <th>tag</th>\n",
       "      <th>text</th>\n",
       "      <th>location</th>\n",
       "    </tr>\n",
       "    <tr>\n",
       "      <th>id</th>\n",
       "      <th></th>\n",
       "      <th></th>\n",
       "      <th></th>\n",
       "      <th></th>\n",
       "    </tr>\n",
       "  </thead>\n",
       "  <tbody>\n",
       "    <tr>\n",
       "      <th>squirrel1090</th>\n",
       "      <td>https://images.unsplash.com/photo-156909312170...</td>\n",
       "      <td>squirrel</td>\n",
       "      <td>[selective, focus, photo, rodent, squirrel, sq...</td>\n",
       "      <td>photos//squirrel1090.jpg</td>\n",
       "    </tr>\n",
       "    <tr>\n",
       "      <th>squirrel1091</th>\n",
       "      <td>https://images.unsplash.com/photo-162456823705...</td>\n",
       "      <td>squirrel</td>\n",
       "      <td>[squirrel, squirrel, squirrel]</td>\n",
       "      <td>photos//squirrel1091.jpg</td>\n",
       "    </tr>\n",
       "    <tr>\n",
       "      <th>squirrel1092</th>\n",
       "      <td>https://images.unsplash.com/photo-156921935723...</td>\n",
       "      <td>squirrel</td>\n",
       "      <td>[closeup, photo, squirrel, grass, squirrel, sq...</td>\n",
       "      <td>photos//squirrel1092.jpg</td>\n",
       "    </tr>\n",
       "    <tr>\n",
       "      <th>squirrel1093</th>\n",
       "      <td>https://images.unsplash.com/photo-151877035242...</td>\n",
       "      <td>squirrel</td>\n",
       "      <td>[brown, squirrel, green, leafed, tree, squirre...</td>\n",
       "      <td>photos//squirrel1093.jpg</td>\n",
       "    </tr>\n",
       "    <tr>\n",
       "      <th>squirrel1094</th>\n",
       "      <td>https://images.unsplash.com/photo-161879481060...</td>\n",
       "      <td>squirrel</td>\n",
       "      <td>[brown, squirrel, brown, tree, branch, daytime...</td>\n",
       "      <td>photos//squirrel1094.jpg</td>\n",
       "    </tr>\n",
       "    <tr>\n",
       "      <th>squirrel1095</th>\n",
       "      <td>https://images.unsplash.com/photo-160573884887...</td>\n",
       "      <td>squirrel</td>\n",
       "      <td>[brown, squirrel, tree, branch, daytime, squir...</td>\n",
       "      <td>photos//squirrel1095.jpg</td>\n",
       "    </tr>\n",
       "    <tr>\n",
       "      <th>squirrel1096</th>\n",
       "      <td>https://images.unsplash.com/photo-160573886213...</td>\n",
       "      <td>squirrel</td>\n",
       "      <td>[brown, squirrel, tree, trunk, squirrel, squir...</td>\n",
       "      <td>photos//squirrel1096.jpg</td>\n",
       "    </tr>\n",
       "    <tr>\n",
       "      <th>squirrel1097</th>\n",
       "      <td>https://images.unsplash.com/photo-160300803028...</td>\n",
       "      <td>squirrel</td>\n",
       "      <td>[brown, squirrel, brown, tree, trunk, squirrel...</td>\n",
       "      <td>photos//squirrel1097.jpg</td>\n",
       "    </tr>\n",
       "    <tr>\n",
       "      <th>squirrel1098</th>\n",
       "      <td>https://images.unsplash.com/photo-157049991156...</td>\n",
       "      <td>squirrel</td>\n",
       "      <td>[brown, squirrel, squirrel, squirrel, squirrel]</td>\n",
       "      <td>photos//squirrel1098.jpg</td>\n",
       "    </tr>\n",
       "    <tr>\n",
       "      <th>squirrel1099</th>\n",
       "      <td>https://images.unsplash.com/photo-160604423048...</td>\n",
       "      <td>squirrel</td>\n",
       "      <td>[nan, squirrel, squirrel, squirrel]</td>\n",
       "      <td>photos//squirrel1099.jpg</td>\n",
       "    </tr>\n",
       "  </tbody>\n",
       "</table>\n",
       "</div>"
      ],
      "text/plain": [
       "                                                          links       tag  \\\n",
       "id                                                                          \n",
       "squirrel1090  https://images.unsplash.com/photo-156909312170...  squirrel   \n",
       "squirrel1091  https://images.unsplash.com/photo-162456823705...  squirrel   \n",
       "squirrel1092  https://images.unsplash.com/photo-156921935723...  squirrel   \n",
       "squirrel1093  https://images.unsplash.com/photo-151877035242...  squirrel   \n",
       "squirrel1094  https://images.unsplash.com/photo-161879481060...  squirrel   \n",
       "squirrel1095  https://images.unsplash.com/photo-160573884887...  squirrel   \n",
       "squirrel1096  https://images.unsplash.com/photo-160573886213...  squirrel   \n",
       "squirrel1097  https://images.unsplash.com/photo-160300803028...  squirrel   \n",
       "squirrel1098  https://images.unsplash.com/photo-157049991156...  squirrel   \n",
       "squirrel1099  https://images.unsplash.com/photo-160604423048...  squirrel   \n",
       "\n",
       "                                                           text  \\\n",
       "id                                                                \n",
       "squirrel1090  [selective, focus, photo, rodent, squirrel, sq...   \n",
       "squirrel1091                     [squirrel, squirrel, squirrel]   \n",
       "squirrel1092  [closeup, photo, squirrel, grass, squirrel, sq...   \n",
       "squirrel1093  [brown, squirrel, green, leafed, tree, squirre...   \n",
       "squirrel1094  [brown, squirrel, brown, tree, branch, daytime...   \n",
       "squirrel1095  [brown, squirrel, tree, branch, daytime, squir...   \n",
       "squirrel1096  [brown, squirrel, tree, trunk, squirrel, squir...   \n",
       "squirrel1097  [brown, squirrel, brown, tree, trunk, squirrel...   \n",
       "squirrel1098    [brown, squirrel, squirrel, squirrel, squirrel]   \n",
       "squirrel1099                [nan, squirrel, squirrel, squirrel]   \n",
       "\n",
       "                              location  \n",
       "id                                      \n",
       "squirrel1090  photos//squirrel1090.jpg  \n",
       "squirrel1091  photos//squirrel1091.jpg  \n",
       "squirrel1092  photos//squirrel1092.jpg  \n",
       "squirrel1093  photos//squirrel1093.jpg  \n",
       "squirrel1094  photos//squirrel1094.jpg  \n",
       "squirrel1095  photos//squirrel1095.jpg  \n",
       "squirrel1096  photos//squirrel1096.jpg  \n",
       "squirrel1097  photos//squirrel1097.jpg  \n",
       "squirrel1098  photos//squirrel1098.jpg  \n",
       "squirrel1099  photos//squirrel1099.jpg  "
      ]
     },
     "execution_count": 41,
     "metadata": {},
     "output_type": "execute_result"
    }
   ],
   "source": [
    "df.tail(10)"
   ]
  },
  {
   "cell_type": "code",
   "execution_count": 128,
   "id": "d5ee887f",
   "metadata": {},
   "outputs": [
    {
     "data": {
      "text/plain": [
       "(1099, 3)"
      ]
     },
     "execution_count": 128,
     "metadata": {},
     "output_type": "execute_result"
    }
   ],
   "source": [
    "df.shape"
   ]
  },
  {
   "cell_type": "code",
   "execution_count": 130,
   "id": "b4e4b861",
   "metadata": {},
   "outputs": [],
   "source": [
    "os.mkdir('photos')"
   ]
  },
  {
   "cell_type": "code",
   "execution_count": 153,
   "id": "56c0cd8d",
   "metadata": {},
   "outputs": [],
   "source": [
    "location = []\n",
    "u_id = [] "
   ]
  },
  {
   "cell_type": "code",
   "execution_count": 154,
   "id": "a812eafc",
   "metadata": {},
   "outputs": [],
   "source": [
    "for i in range(0, len(df)):\n",
    "    location.append(\"photos//\"+df['tag'][i]+str(i+1)+'.jpg')\n",
    "    u_id.append(str(df['tag'][i])+str(i+1))"
   ]
  },
  {
   "cell_type": "code",
   "execution_count": 145,
   "id": "37745b95",
   "metadata": {},
   "outputs": [
    {
     "data": {
      "text/plain": [
       "'https://images.unsplash.com/photo-1606044230480-137ea0f7f92f?ixlib=rb-1.2.1&ixid=MnwxMjA3fDB8MHxzZWFyY2h8MjB8fHNxdWlycmVsfGVufDB8fDB8fA%3D%3D&w=1000&q=80'"
      ]
     },
     "execution_count": 145,
     "metadata": {},
     "output_type": "execute_result"
    }
   ],
   "source": [
    "df['links'][1098]"
   ]
  },
  {
   "cell_type": "code",
   "execution_count": 155,
   "id": "ace9965e",
   "metadata": {},
   "outputs": [],
   "source": [
    "df['location'] = location\n",
    "df['id'] = u_id"
   ]
  },
  {
   "cell_type": "code",
   "execution_count": 156,
   "id": "f350b07d",
   "metadata": {},
   "outputs": [
    {
     "data": {
      "text/html": [
       "<div>\n",
       "<style scoped>\n",
       "    .dataframe tbody tr th:only-of-type {\n",
       "        vertical-align: middle;\n",
       "    }\n",
       "\n",
       "    .dataframe tbody tr th {\n",
       "        vertical-align: top;\n",
       "    }\n",
       "\n",
       "    .dataframe thead th {\n",
       "        text-align: right;\n",
       "    }\n",
       "</style>\n",
       "<table border=\"1\" class=\"dataframe\">\n",
       "  <thead>\n",
       "    <tr style=\"text-align: right;\">\n",
       "      <th></th>\n",
       "      <th>links</th>\n",
       "      <th>tag</th>\n",
       "      <th>text</th>\n",
       "      <th>location</th>\n",
       "      <th>id</th>\n",
       "    </tr>\n",
       "  </thead>\n",
       "  <tbody>\n",
       "    <tr>\n",
       "      <th>0</th>\n",
       "      <td>https://images.unsplash.com/photo-1561731216-c...</td>\n",
       "      <td>tiger</td>\n",
       "      <td>Bengal tiger</td>\n",
       "      <td>photos//tiger1.jpg</td>\n",
       "      <td>tiger1</td>\n",
       "    </tr>\n",
       "    <tr>\n",
       "      <th>1</th>\n",
       "      <td>https://images.unsplash.com/photo-1551972251-1...</td>\n",
       "      <td>tiger</td>\n",
       "      <td>close-up photography of tiger</td>\n",
       "      <td>photos//tiger2.jpg</td>\n",
       "      <td>tiger2</td>\n",
       "    </tr>\n",
       "    <tr>\n",
       "      <th>2</th>\n",
       "      <td>https://images.unsplash.com/photo-161582499619...</td>\n",
       "      <td>tiger</td>\n",
       "      <td>tiger on brown tree log</td>\n",
       "      <td>photos//tiger3.jpg</td>\n",
       "      <td>tiger3</td>\n",
       "    </tr>\n",
       "    <tr>\n",
       "      <th>3</th>\n",
       "      <td>https://images.unsplash.com/photo-160249145363...</td>\n",
       "      <td>tiger</td>\n",
       "      <td></td>\n",
       "      <td>photos//tiger4.jpg</td>\n",
       "      <td>tiger4</td>\n",
       "    </tr>\n",
       "    <tr>\n",
       "      <th>4</th>\n",
       "      <td>https://images.unsplash.com/photo-159182443870...</td>\n",
       "      <td>tiger</td>\n",
       "      <td>brown tiger walking on brown sand during daytime</td>\n",
       "      <td>photos//tiger5.jpg</td>\n",
       "      <td>tiger5</td>\n",
       "    </tr>\n",
       "    <tr>\n",
       "      <th>5</th>\n",
       "      <td>https://images.unsplash.com/photo-153761693034...</td>\n",
       "      <td>tiger</td>\n",
       "      <td>tiger in forest</td>\n",
       "      <td>photos//tiger6.jpg</td>\n",
       "      <td>tiger6</td>\n",
       "    </tr>\n",
       "    <tr>\n",
       "      <th>6</th>\n",
       "      <td>https://images.unsplash.com/photo-160261263946...</td>\n",
       "      <td>tiger</td>\n",
       "      <td>tiger lying on ground near green leaves during...</td>\n",
       "      <td>photos//tiger7.jpg</td>\n",
       "      <td>tiger7</td>\n",
       "    </tr>\n",
       "    <tr>\n",
       "      <th>7</th>\n",
       "      <td>https://images.unsplash.com/photo-159076741306...</td>\n",
       "      <td>tiger</td>\n",
       "      <td>brown and white tiger on black background</td>\n",
       "      <td>photos//tiger8.jpg</td>\n",
       "      <td>tiger8</td>\n",
       "    </tr>\n",
       "    <tr>\n",
       "      <th>8</th>\n",
       "      <td>https://images.unsplash.com/photo-156760191666...</td>\n",
       "      <td>tiger</td>\n",
       "      <td>orange tiger</td>\n",
       "      <td>photos//tiger9.jpg</td>\n",
       "      <td>tiger9</td>\n",
       "    </tr>\n",
       "    <tr>\n",
       "      <th>9</th>\n",
       "      <td>https://images.unsplash.com/photo-160509267692...</td>\n",
       "      <td>tiger</td>\n",
       "      <td>brown and black tiger in close up photography</td>\n",
       "      <td>photos//tiger10.jpg</td>\n",
       "      <td>tiger10</td>\n",
       "    </tr>\n",
       "  </tbody>\n",
       "</table>\n",
       "</div>"
      ],
      "text/plain": [
       "                                               links    tag  \\\n",
       "0  https://images.unsplash.com/photo-1561731216-c...  tiger   \n",
       "1  https://images.unsplash.com/photo-1551972251-1...  tiger   \n",
       "2  https://images.unsplash.com/photo-161582499619...  tiger   \n",
       "3  https://images.unsplash.com/photo-160249145363...  tiger   \n",
       "4  https://images.unsplash.com/photo-159182443870...  tiger   \n",
       "5  https://images.unsplash.com/photo-153761693034...  tiger   \n",
       "6  https://images.unsplash.com/photo-160261263946...  tiger   \n",
       "7  https://images.unsplash.com/photo-159076741306...  tiger   \n",
       "8  https://images.unsplash.com/photo-156760191666...  tiger   \n",
       "9  https://images.unsplash.com/photo-160509267692...  tiger   \n",
       "\n",
       "                                                text             location  \\\n",
       "0                                       Bengal tiger   photos//tiger1.jpg   \n",
       "1                      close-up photography of tiger   photos//tiger2.jpg   \n",
       "2                            tiger on brown tree log   photos//tiger3.jpg   \n",
       "3                                                      photos//tiger4.jpg   \n",
       "4   brown tiger walking on brown sand during daytime   photos//tiger5.jpg   \n",
       "5                                    tiger in forest   photos//tiger6.jpg   \n",
       "6  tiger lying on ground near green leaves during...   photos//tiger7.jpg   \n",
       "7          brown and white tiger on black background   photos//tiger8.jpg   \n",
       "8                                       orange tiger   photos//tiger9.jpg   \n",
       "9      brown and black tiger in close up photography  photos//tiger10.jpg   \n",
       "\n",
       "        id  \n",
       "0   tiger1  \n",
       "1   tiger2  \n",
       "2   tiger3  \n",
       "3   tiger4  \n",
       "4   tiger5  \n",
       "5   tiger6  \n",
       "6   tiger7  \n",
       "7   tiger8  \n",
       "8   tiger9  \n",
       "9  tiger10  "
      ]
     },
     "execution_count": 156,
     "metadata": {},
     "output_type": "execute_result"
    }
   ],
   "source": [
    "df.head(10)"
   ]
  },
  {
   "cell_type": "code",
   "execution_count": 185,
   "id": "d385bd88",
   "metadata": {},
   "outputs": [],
   "source": [
    "df = df.set_index('id')"
   ]
  },
  {
   "cell_type": "code",
   "execution_count": 186,
   "id": "0bdc1aa6",
   "metadata": {},
   "outputs": [
    {
     "data": {
      "text/html": [
       "<div>\n",
       "<style scoped>\n",
       "    .dataframe tbody tr th:only-of-type {\n",
       "        vertical-align: middle;\n",
       "    }\n",
       "\n",
       "    .dataframe tbody tr th {\n",
       "        vertical-align: top;\n",
       "    }\n",
       "\n",
       "    .dataframe thead th {\n",
       "        text-align: right;\n",
       "    }\n",
       "</style>\n",
       "<table border=\"1\" class=\"dataframe\">\n",
       "  <thead>\n",
       "    <tr style=\"text-align: right;\">\n",
       "      <th></th>\n",
       "      <th>links</th>\n",
       "      <th>tag</th>\n",
       "      <th>text</th>\n",
       "      <th>location</th>\n",
       "    </tr>\n",
       "    <tr>\n",
       "      <th>id</th>\n",
       "      <th></th>\n",
       "      <th></th>\n",
       "      <th></th>\n",
       "      <th></th>\n",
       "    </tr>\n",
       "  </thead>\n",
       "  <tbody>\n",
       "    <tr>\n",
       "      <th>tiger1</th>\n",
       "      <td>https://images.unsplash.com/photo-1561731216-c...</td>\n",
       "      <td>tiger</td>\n",
       "      <td>Bengal tiger</td>\n",
       "      <td>photos//tiger1.jpg</td>\n",
       "    </tr>\n",
       "    <tr>\n",
       "      <th>tiger2</th>\n",
       "      <td>https://images.unsplash.com/photo-1551972251-1...</td>\n",
       "      <td>tiger</td>\n",
       "      <td>close-up photography of tiger</td>\n",
       "      <td>photos//tiger2.jpg</td>\n",
       "    </tr>\n",
       "    <tr>\n",
       "      <th>tiger3</th>\n",
       "      <td>https://images.unsplash.com/photo-161582499619...</td>\n",
       "      <td>tiger</td>\n",
       "      <td>tiger on brown tree log</td>\n",
       "      <td>photos//tiger3.jpg</td>\n",
       "    </tr>\n",
       "    <tr>\n",
       "      <th>tiger4</th>\n",
       "      <td>https://images.unsplash.com/photo-160249145363...</td>\n",
       "      <td>tiger</td>\n",
       "      <td></td>\n",
       "      <td>photos//tiger4.jpg</td>\n",
       "    </tr>\n",
       "    <tr>\n",
       "      <th>tiger5</th>\n",
       "      <td>https://images.unsplash.com/photo-159182443870...</td>\n",
       "      <td>tiger</td>\n",
       "      <td>brown tiger walking on brown sand during daytime</td>\n",
       "      <td>photos//tiger5.jpg</td>\n",
       "    </tr>\n",
       "  </tbody>\n",
       "</table>\n",
       "</div>"
      ],
      "text/plain": [
       "                                                    links    tag  \\\n",
       "id                                                                 \n",
       "tiger1  https://images.unsplash.com/photo-1561731216-c...  tiger   \n",
       "tiger2  https://images.unsplash.com/photo-1551972251-1...  tiger   \n",
       "tiger3  https://images.unsplash.com/photo-161582499619...  tiger   \n",
       "tiger4  https://images.unsplash.com/photo-160249145363...  tiger   \n",
       "tiger5  https://images.unsplash.com/photo-159182443870...  tiger   \n",
       "\n",
       "                                                    text            location  \n",
       "id                                                                            \n",
       "tiger1                                      Bengal tiger  photos//tiger1.jpg  \n",
       "tiger2                     close-up photography of tiger  photos//tiger2.jpg  \n",
       "tiger3                           tiger on brown tree log  photos//tiger3.jpg  \n",
       "tiger4                                                    photos//tiger4.jpg  \n",
       "tiger5  brown tiger walking on brown sand during daytime  photos//tiger5.jpg  "
      ]
     },
     "execution_count": 186,
     "metadata": {},
     "output_type": "execute_result"
    }
   ],
   "source": [
    "df.head()"
   ]
  },
  {
   "cell_type": "code",
   "execution_count": 191,
   "id": "1b971a74",
   "metadata": {},
   "outputs": [
    {
     "data": {
      "text/plain": [
       "'photos//tiger1.jpg'"
      ]
     },
     "execution_count": 191,
     "metadata": {},
     "output_type": "execute_result"
    }
   ],
   "source": [
    "df.loc['tiger1']['location']"
   ]
  },
  {
   "cell_type": "code",
   "execution_count": 171,
   "id": "1ccb0ca1",
   "metadata": {},
   "outputs": [],
   "source": [
    "ind = df.keys()"
   ]
  },
  {
   "cell_type": "code",
   "execution_count": 172,
   "id": "25fbb8cd",
   "metadata": {},
   "outputs": [
    {
     "data": {
      "text/plain": [
       "Index(['links', 'tag', 'text', 'location', 'id'], dtype='object')"
      ]
     },
     "execution_count": 172,
     "metadata": {},
     "output_type": "execute_result"
    }
   ],
   "source": [
    "ind"
   ]
  },
  {
   "cell_type": "code",
   "execution_count": null,
   "id": "399cad22",
   "metadata": {},
   "outputs": [],
   "source": [
    "os.mkdir('photos')"
   ]
  },
  {
   "cell_type": "code",
   "execution_count": 190,
   "id": "9543e85a",
   "metadata": {},
   "outputs": [],
   "source": [
    "for i in df.index:\n",
    "    img_data = rq.get(df.loc[i]['links']).content\n",
    "    with open(df.loc[i]['location'], 'wb+') as f:\n",
    "        f.write(img_data)\n",
    "f.close()"
   ]
  },
  {
   "cell_type": "markdown",
   "id": "705824ec",
   "metadata": {},
   "source": [
    "## Cleaning text"
   ]
  },
  {
   "cell_type": "code",
   "execution_count": 214,
   "id": "b8710f3b",
   "metadata": {},
   "outputs": [],
   "source": [
    "df['text'] = df['text'].str.lower()"
   ]
  },
  {
   "cell_type": "code",
   "execution_count": 215,
   "id": "031cc87a",
   "metadata": {},
   "outputs": [
    {
     "data": {
      "text/html": [
       "<div>\n",
       "<style scoped>\n",
       "    .dataframe tbody tr th:only-of-type {\n",
       "        vertical-align: middle;\n",
       "    }\n",
       "\n",
       "    .dataframe tbody tr th {\n",
       "        vertical-align: top;\n",
       "    }\n",
       "\n",
       "    .dataframe thead th {\n",
       "        text-align: right;\n",
       "    }\n",
       "</style>\n",
       "<table border=\"1\" class=\"dataframe\">\n",
       "  <thead>\n",
       "    <tr style=\"text-align: right;\">\n",
       "      <th></th>\n",
       "      <th>links</th>\n",
       "      <th>tag</th>\n",
       "      <th>text</th>\n",
       "      <th>location</th>\n",
       "    </tr>\n",
       "    <tr>\n",
       "      <th>id</th>\n",
       "      <th></th>\n",
       "      <th></th>\n",
       "      <th></th>\n",
       "      <th></th>\n",
       "    </tr>\n",
       "  </thead>\n",
       "  <tbody>\n",
       "    <tr>\n",
       "      <th>tiger1</th>\n",
       "      <td>https://images.unsplash.com/photo-1561731216-c...</td>\n",
       "      <td>tiger</td>\n",
       "      <td>bengal tiger</td>\n",
       "      <td>photos//tiger1.jpg</td>\n",
       "    </tr>\n",
       "    <tr>\n",
       "      <th>tiger2</th>\n",
       "      <td>https://images.unsplash.com/photo-1551972251-1...</td>\n",
       "      <td>tiger</td>\n",
       "      <td>close-up photography of tiger</td>\n",
       "      <td>photos//tiger2.jpg</td>\n",
       "    </tr>\n",
       "    <tr>\n",
       "      <th>tiger3</th>\n",
       "      <td>https://images.unsplash.com/photo-161582499619...</td>\n",
       "      <td>tiger</td>\n",
       "      <td>tiger on brown tree log</td>\n",
       "      <td>photos//tiger3.jpg</td>\n",
       "    </tr>\n",
       "    <tr>\n",
       "      <th>tiger4</th>\n",
       "      <td>https://images.unsplash.com/photo-160249145363...</td>\n",
       "      <td>tiger</td>\n",
       "      <td></td>\n",
       "      <td>photos//tiger4.jpg</td>\n",
       "    </tr>\n",
       "    <tr>\n",
       "      <th>tiger5</th>\n",
       "      <td>https://images.unsplash.com/photo-159182443870...</td>\n",
       "      <td>tiger</td>\n",
       "      <td>brown tiger walking on brown sand during daytime</td>\n",
       "      <td>photos//tiger5.jpg</td>\n",
       "    </tr>\n",
       "  </tbody>\n",
       "</table>\n",
       "</div>"
      ],
      "text/plain": [
       "                                                    links    tag  \\\n",
       "id                                                                 \n",
       "tiger1  https://images.unsplash.com/photo-1561731216-c...  tiger   \n",
       "tiger2  https://images.unsplash.com/photo-1551972251-1...  tiger   \n",
       "tiger3  https://images.unsplash.com/photo-161582499619...  tiger   \n",
       "tiger4  https://images.unsplash.com/photo-160249145363...  tiger   \n",
       "tiger5  https://images.unsplash.com/photo-159182443870...  tiger   \n",
       "\n",
       "                                                    text            location  \n",
       "id                                                                            \n",
       "tiger1                                      bengal tiger  photos//tiger1.jpg  \n",
       "tiger2                     close-up photography of tiger  photos//tiger2.jpg  \n",
       "tiger3                           tiger on brown tree log  photos//tiger3.jpg  \n",
       "tiger4                                                    photos//tiger4.jpg  \n",
       "tiger5  brown tiger walking on brown sand during daytime  photos//tiger5.jpg  "
      ]
     },
     "execution_count": 215,
     "metadata": {},
     "output_type": "execute_result"
    }
   ],
   "source": [
    "df.head()"
   ]
  },
  {
   "cell_type": "code",
   "execution_count": 216,
   "id": "227058df",
   "metadata": {},
   "outputs": [
    {
     "data": {
      "text/plain": [
       "links       object\n",
       "tag         object\n",
       "text        object\n",
       "location    object\n",
       "dtype: object"
      ]
     },
     "execution_count": 216,
     "metadata": {},
     "output_type": "execute_result"
    }
   ],
   "source": [
    "df.dtypes"
   ]
  },
  {
   "cell_type": "code",
   "execution_count": 217,
   "id": "ce3ce868",
   "metadata": {},
   "outputs": [],
   "source": [
    "import string\n",
    "\n",
    "def remove_punct(text):\n",
    "    punctuationfree=\"\".join([i for i in text if i not in string.punctuation])\n",
    "    return punctuationfree"
   ]
  },
  {
   "cell_type": "markdown",
   "id": "76918ca0",
   "metadata": {},
   "source": [
    "## POS taging and lemmetize"
   ]
  },
  {
   "cell_type": "code",
   "execution_count": 17,
   "id": "bd1a0e17",
   "metadata": {},
   "outputs": [],
   "source": [
    "# Map POS tag to first character lemmatize() accepts\n",
    "def get_wordnet_pos(word):\n",
    "    tag = nltk.pos_tag([word])[0][1][0].upper()\n",
    "    tag_dict = {\"J\": wordnet.ADJ,\n",
    "                \"N\": wordnet.NOUN,\n",
    "                \"V\": wordnet.VERB,\n",
    "                \"R\": wordnet.ADV}\n",
    "\n",
    "    return tag_dict.get(tag, wordnet.NOUN)"
   ]
  },
  {
   "cell_type": "code",
   "execution_count": 18,
   "id": "53622a56",
   "metadata": {},
   "outputs": [],
   "source": [
    "def lem(text):\n",
    "    return [wordnet_lemmatizer.lemmatize(w, get_wordnet_pos(w)) for w in nltk.word_tokenize(text)]"
   ]
  },
  {
   "cell_type": "code",
   "execution_count": 222,
   "id": "e0ab6379",
   "metadata": {},
   "outputs": [],
   "source": [
    "for i in range (0, len(df)):\n",
    "    df['text'][i] = lem(str(df['text'][i]))"
   ]
  },
  {
   "cell_type": "code",
   "execution_count": 232,
   "id": "821ee42f",
   "metadata": {},
   "outputs": [
    {
     "data": {
      "text/html": [
       "<div>\n",
       "<style scoped>\n",
       "    .dataframe tbody tr th:only-of-type {\n",
       "        vertical-align: middle;\n",
       "    }\n",
       "\n",
       "    .dataframe tbody tr th {\n",
       "        vertical-align: top;\n",
       "    }\n",
       "\n",
       "    .dataframe thead th {\n",
       "        text-align: right;\n",
       "    }\n",
       "</style>\n",
       "<table border=\"1\" class=\"dataframe\">\n",
       "  <thead>\n",
       "    <tr style=\"text-align: right;\">\n",
       "      <th></th>\n",
       "      <th>links</th>\n",
       "      <th>tag</th>\n",
       "      <th>text</th>\n",
       "      <th>location</th>\n",
       "    </tr>\n",
       "    <tr>\n",
       "      <th>id</th>\n",
       "      <th></th>\n",
       "      <th></th>\n",
       "      <th></th>\n",
       "      <th></th>\n",
       "    </tr>\n",
       "  </thead>\n",
       "  <tbody>\n",
       "    <tr>\n",
       "      <th>tiger1</th>\n",
       "      <td>https://images.unsplash.com/photo-1561731216-c...</td>\n",
       "      <td>tiger</td>\n",
       "      <td>[bengal, tiger]</td>\n",
       "      <td>photos//tiger1.jpg</td>\n",
       "    </tr>\n",
       "    <tr>\n",
       "      <th>tiger2</th>\n",
       "      <td>https://images.unsplash.com/photo-1551972251-1...</td>\n",
       "      <td>tiger</td>\n",
       "      <td>[close-up, photography, tiger]</td>\n",
       "      <td>photos//tiger2.jpg</td>\n",
       "    </tr>\n",
       "    <tr>\n",
       "      <th>tiger3</th>\n",
       "      <td>https://images.unsplash.com/photo-161582499619...</td>\n",
       "      <td>tiger</td>\n",
       "      <td>[tiger, brown, tree, log]</td>\n",
       "      <td>photos//tiger3.jpg</td>\n",
       "    </tr>\n",
       "    <tr>\n",
       "      <th>tiger4</th>\n",
       "      <td>https://images.unsplash.com/photo-160249145363...</td>\n",
       "      <td>tiger</td>\n",
       "      <td>[]</td>\n",
       "      <td>photos//tiger4.jpg</td>\n",
       "    </tr>\n",
       "    <tr>\n",
       "      <th>tiger5</th>\n",
       "      <td>https://images.unsplash.com/photo-159182443870...</td>\n",
       "      <td>tiger</td>\n",
       "      <td>[brown, tiger, walk, brown, sand, daytime]</td>\n",
       "      <td>photos//tiger5.jpg</td>\n",
       "    </tr>\n",
       "  </tbody>\n",
       "</table>\n",
       "</div>"
      ],
      "text/plain": [
       "                                                    links    tag  \\\n",
       "id                                                                 \n",
       "tiger1  https://images.unsplash.com/photo-1561731216-c...  tiger   \n",
       "tiger2  https://images.unsplash.com/photo-1551972251-1...  tiger   \n",
       "tiger3  https://images.unsplash.com/photo-161582499619...  tiger   \n",
       "tiger4  https://images.unsplash.com/photo-160249145363...  tiger   \n",
       "tiger5  https://images.unsplash.com/photo-159182443870...  tiger   \n",
       "\n",
       "                                              text            location  \n",
       "id                                                                      \n",
       "tiger1                             [bengal, tiger]  photos//tiger1.jpg  \n",
       "tiger2              [close-up, photography, tiger]  photos//tiger2.jpg  \n",
       "tiger3                   [tiger, brown, tree, log]  photos//tiger3.jpg  \n",
       "tiger4                                          []  photos//tiger4.jpg  \n",
       "tiger5  [brown, tiger, walk, brown, sand, daytime]  photos//tiger5.jpg  "
      ]
     },
     "execution_count": 232,
     "metadata": {},
     "output_type": "execute_result"
    }
   ],
   "source": [
    "df.head()"
   ]
  },
  {
   "cell_type": "code",
   "execution_count": 19,
   "id": "448c6cd4",
   "metadata": {},
   "outputs": [],
   "source": [
    "stopwords = nltk.corpus.stopwords.words('english')"
   ]
  },
  {
   "cell_type": "code",
   "execution_count": 231,
   "id": "b56d2339",
   "metadata": {},
   "outputs": [],
   "source": [
    "for i in range (0, len(df)):\n",
    "    df['text'][i] = [word for word in df['text'][i] if word not in stopwords]"
   ]
  },
  {
   "cell_type": "code",
   "execution_count": 115,
   "id": "5ac93d60",
   "metadata": {},
   "outputs": [],
   "source": [
    "for i in range(0, len(df)):\n",
    "    df['text'][i].append(df['tag'][i])\n",
    "    df['text'][i].append(df['tag'][i])"
   ]
  },
  {
   "cell_type": "code",
   "execution_count": 116,
   "id": "4b2963cd",
   "metadata": {},
   "outputs": [
    {
     "data": {
      "text/html": [
       "<div>\n",
       "<style scoped>\n",
       "    .dataframe tbody tr th:only-of-type {\n",
       "        vertical-align: middle;\n",
       "    }\n",
       "\n",
       "    .dataframe tbody tr th {\n",
       "        vertical-align: top;\n",
       "    }\n",
       "\n",
       "    .dataframe thead th {\n",
       "        text-align: right;\n",
       "    }\n",
       "</style>\n",
       "<table border=\"1\" class=\"dataframe\">\n",
       "  <thead>\n",
       "    <tr style=\"text-align: right;\">\n",
       "      <th></th>\n",
       "      <th>links</th>\n",
       "      <th>tag</th>\n",
       "      <th>text</th>\n",
       "      <th>location</th>\n",
       "    </tr>\n",
       "    <tr>\n",
       "      <th>id</th>\n",
       "      <th></th>\n",
       "      <th></th>\n",
       "      <th></th>\n",
       "      <th></th>\n",
       "    </tr>\n",
       "  </thead>\n",
       "  <tbody>\n",
       "    <tr>\n",
       "      <th>tiger1</th>\n",
       "      <td>https://images.unsplash.com/photo-1561731216-c...</td>\n",
       "      <td>tiger</td>\n",
       "      <td>[bengal, tiger, tiger, tiger, tiger]</td>\n",
       "      <td>photos//tiger1.jpg</td>\n",
       "    </tr>\n",
       "    <tr>\n",
       "      <th>tiger2</th>\n",
       "      <td>https://images.unsplash.com/photo-1551972251-1...</td>\n",
       "      <td>tiger</td>\n",
       "      <td>[close-up, photography, tiger, tiger, tiger, t...</td>\n",
       "      <td>photos//tiger2.jpg</td>\n",
       "    </tr>\n",
       "    <tr>\n",
       "      <th>tiger3</th>\n",
       "      <td>https://images.unsplash.com/photo-161582499619...</td>\n",
       "      <td>tiger</td>\n",
       "      <td>[tiger, brown, tree, log, tiger, tiger, tiger]</td>\n",
       "      <td>photos//tiger3.jpg</td>\n",
       "    </tr>\n",
       "    <tr>\n",
       "      <th>tiger4</th>\n",
       "      <td>https://images.unsplash.com/photo-160249145363...</td>\n",
       "      <td>tiger</td>\n",
       "      <td>[tiger, tiger, tiger]</td>\n",
       "      <td>photos//tiger4.jpg</td>\n",
       "    </tr>\n",
       "    <tr>\n",
       "      <th>tiger5</th>\n",
       "      <td>https://images.unsplash.com/photo-159182443870...</td>\n",
       "      <td>tiger</td>\n",
       "      <td>[brown, tiger, walk, brown, sand, daytime, tig...</td>\n",
       "      <td>photos//tiger5.jpg</td>\n",
       "    </tr>\n",
       "  </tbody>\n",
       "</table>\n",
       "</div>"
      ],
      "text/plain": [
       "                                                    links    tag  \\\n",
       "id                                                                 \n",
       "tiger1  https://images.unsplash.com/photo-1561731216-c...  tiger   \n",
       "tiger2  https://images.unsplash.com/photo-1551972251-1...  tiger   \n",
       "tiger3  https://images.unsplash.com/photo-161582499619...  tiger   \n",
       "tiger4  https://images.unsplash.com/photo-160249145363...  tiger   \n",
       "tiger5  https://images.unsplash.com/photo-159182443870...  tiger   \n",
       "\n",
       "                                                     text            location  \n",
       "id                                                                             \n",
       "tiger1               [bengal, tiger, tiger, tiger, tiger]  photos//tiger1.jpg  \n",
       "tiger2  [close-up, photography, tiger, tiger, tiger, t...  photos//tiger2.jpg  \n",
       "tiger3     [tiger, brown, tree, log, tiger, tiger, tiger]  photos//tiger3.jpg  \n",
       "tiger4                              [tiger, tiger, tiger]  photos//tiger4.jpg  \n",
       "tiger5  [brown, tiger, walk, brown, sand, daytime, tig...  photos//tiger5.jpg  "
      ]
     },
     "execution_count": 116,
     "metadata": {},
     "output_type": "execute_result"
    }
   ],
   "source": [
    "df.head()"
   ]
  },
  {
   "cell_type": "code",
   "execution_count": 3,
   "id": "d02161aa",
   "metadata": {},
   "outputs": [],
   "source": [
    "%store -r df"
   ]
  },
  {
   "cell_type": "code",
   "execution_count": 4,
   "id": "52b25a21",
   "metadata": {},
   "outputs": [],
   "source": [
    "vocab = []\n",
    "for i in df['text']:\n",
    "    for j in i:\n",
    "        if j not in vocab:\n",
    "            vocab.append(j)"
   ]
  },
  {
   "cell_type": "code",
   "execution_count": 5,
   "id": "0acd12be",
   "metadata": {},
   "outputs": [
    {
     "data": {
      "text/plain": [
       "245"
      ]
     },
     "execution_count": 5,
     "metadata": {},
     "output_type": "execute_result"
    }
   ],
   "source": [
    "len(vocab)"
   ]
  },
  {
   "cell_type": "code",
   "execution_count": 6,
   "id": "9f305c0a",
   "metadata": {},
   "outputs": [],
   "source": [
    "inverted_index = pd.DataFrame()"
   ]
  },
  {
   "cell_type": "code",
   "execution_count": 7,
   "id": "c7dedc35",
   "metadata": {},
   "outputs": [],
   "source": [
    "df = df.reset_index()"
   ]
  },
  {
   "cell_type": "code",
   "execution_count": 8,
   "id": "12dda5dd",
   "metadata": {},
   "outputs": [
    {
     "data": {
      "text/plain": [
       "'tiger2'"
      ]
     },
     "execution_count": 8,
     "metadata": {},
     "output_type": "execute_result"
    }
   ],
   "source": [
    "df['id'][1]"
   ]
  },
  {
   "cell_type": "code",
   "execution_count": 9,
   "id": "b66d4503",
   "metadata": {},
   "outputs": [],
   "source": [
    "inverted_index['word'] = vocab"
   ]
  },
  {
   "cell_type": "code",
   "execution_count": 10,
   "id": "96620887",
   "metadata": {},
   "outputs": [],
   "source": [
    "doc_list = []\n",
    "freq = []\n",
    "for i in vocab:\n",
    "    ls = []\n",
    "    f_ls = []\n",
    "    for j in range (0, len(df)):\n",
    "        if i in df['text'][j]:\n",
    "            ls.append(df['id'][j])\n",
    "            f_ls.append(df['text'][j].count(i))\n",
    "    doc_list.append(ls)\n",
    "    freq.append(f_ls)"
   ]
  },
  {
   "cell_type": "code",
   "execution_count": 11,
   "id": "10df297c",
   "metadata": {},
   "outputs": [
    {
     "data": {
      "text/plain": [
       "245"
      ]
     },
     "execution_count": 11,
     "metadata": {},
     "output_type": "execute_result"
    }
   ],
   "source": [
    "len(doc_list)"
   ]
  },
  {
   "cell_type": "code",
   "execution_count": 12,
   "id": "7843e3f0",
   "metadata": {},
   "outputs": [
    {
     "data": {
      "text/plain": [
       "245"
      ]
     },
     "execution_count": 12,
     "metadata": {},
     "output_type": "execute_result"
    }
   ],
   "source": [
    "len(freq)"
   ]
  },
  {
   "cell_type": "code",
   "execution_count": 13,
   "id": "68ee83d6",
   "metadata": {},
   "outputs": [],
   "source": [
    "inverted_index['word'] = vocab\n",
    "inverted_index['doc'] = doc_list\n",
    "inverted_index['frequency'] = freq"
   ]
  },
  {
   "cell_type": "code",
   "execution_count": 14,
   "id": "8c71a05b",
   "metadata": {},
   "outputs": [
    {
     "data": {
      "text/html": [
       "<div>\n",
       "<style scoped>\n",
       "    .dataframe tbody tr th:only-of-type {\n",
       "        vertical-align: middle;\n",
       "    }\n",
       "\n",
       "    .dataframe tbody tr th {\n",
       "        vertical-align: top;\n",
       "    }\n",
       "\n",
       "    .dataframe thead th {\n",
       "        text-align: right;\n",
       "    }\n",
       "</style>\n",
       "<table border=\"1\" class=\"dataframe\">\n",
       "  <thead>\n",
       "    <tr style=\"text-align: right;\">\n",
       "      <th></th>\n",
       "      <th>word</th>\n",
       "      <th>doc</th>\n",
       "      <th>frequency</th>\n",
       "    </tr>\n",
       "  </thead>\n",
       "  <tbody>\n",
       "    <tr>\n",
       "      <th>0</th>\n",
       "      <td>bengal</td>\n",
       "      <td>[tiger1, tiger24, tiger47]</td>\n",
       "      <td>[1, 1, 1]</td>\n",
       "    </tr>\n",
       "    <tr>\n",
       "      <th>1</th>\n",
       "      <td>tiger</td>\n",
       "      <td>[tiger1, tiger2, tiger3, tiger4, tiger5, tiger...</td>\n",
       "      <td>[4, 4, 4, 3, 4, 4, 4, 4, 4, 4, 4, 4, 4, 4, 4, ...</td>\n",
       "    </tr>\n",
       "    <tr>\n",
       "      <th>2</th>\n",
       "      <td>close-up</td>\n",
       "      <td>[tiger2, tiger33, tiger50, squirrel1035, squir...</td>\n",
       "      <td>[1, 1, 1, 1, 1, 1]</td>\n",
       "    </tr>\n",
       "    <tr>\n",
       "      <th>3</th>\n",
       "      <td>photography</td>\n",
       "      <td>[tiger2, tiger10, tiger12, tiger13, tiger25, t...</td>\n",
       "      <td>[1, 1, 1, 1, 1, 1, 1, 1, 1, 1, 1, 1, 1, 1, 1, ...</td>\n",
       "    </tr>\n",
       "    <tr>\n",
       "      <th>4</th>\n",
       "      <td>brown</td>\n",
       "      <td>[tiger3, tiger5, tiger8, tiger10, tiger11, tig...</td>\n",
       "      <td>[1, 2, 1, 1, 1, 1, 1, 1, 1, 1, 1, 1, 1, 1, 1, ...</td>\n",
       "    </tr>\n",
       "  </tbody>\n",
       "</table>\n",
       "</div>"
      ],
      "text/plain": [
       "          word                                                doc  \\\n",
       "0       bengal                         [tiger1, tiger24, tiger47]   \n",
       "1        tiger  [tiger1, tiger2, tiger3, tiger4, tiger5, tiger...   \n",
       "2     close-up  [tiger2, tiger33, tiger50, squirrel1035, squir...   \n",
       "3  photography  [tiger2, tiger10, tiger12, tiger13, tiger25, t...   \n",
       "4        brown  [tiger3, tiger5, tiger8, tiger10, tiger11, tig...   \n",
       "\n",
       "                                           frequency  \n",
       "0                                          [1, 1, 1]  \n",
       "1  [4, 4, 4, 3, 4, 4, 4, 4, 4, 4, 4, 4, 4, 4, 4, ...  \n",
       "2                                 [1, 1, 1, 1, 1, 1]  \n",
       "3  [1, 1, 1, 1, 1, 1, 1, 1, 1, 1, 1, 1, 1, 1, 1, ...  \n",
       "4  [1, 2, 1, 1, 1, 1, 1, 1, 1, 1, 1, 1, 1, 1, 1, ...  "
      ]
     },
     "execution_count": 14,
     "metadata": {},
     "output_type": "execute_result"
    }
   ],
   "source": [
    "inverted_index.head()"
   ]
  },
  {
   "cell_type": "code",
   "execution_count": 20,
   "id": "93245bf7",
   "metadata": {},
   "outputs": [],
   "source": [
    "q = 'close up photo of a tiger'"
   ]
  },
  {
   "cell_type": "code",
   "execution_count": 21,
   "id": "72fda029",
   "metadata": {},
   "outputs": [],
   "source": [
    "q = q.lower()\n",
    "q = lem(str(q))\n",
    "q = [word for word in q if word not in stopwords]"
   ]
  },
  {
   "cell_type": "code",
   "execution_count": 22,
   "id": "f0458dff",
   "metadata": {},
   "outputs": [
    {
     "data": {
      "text/plain": [
       "['close', 'photo', 'tiger']"
      ]
     },
     "execution_count": 22,
     "metadata": {},
     "output_type": "execute_result"
    }
   ],
   "source": [
    "q"
   ]
  },
  {
   "cell_type": "markdown",
   "id": "a348ed3a",
   "metadata": {},
   "source": [
    "## Getting IDF"
   ]
  },
  {
   "cell_type": "markdown",
   "id": "a5166a09",
   "metadata": {},
   "source": [
    "Making the words keys"
   ]
  },
  {
   "cell_type": "code",
   "execution_count": 23,
   "id": "7b7a5329",
   "metadata": {},
   "outputs": [],
   "source": [
    "inverted_index = inverted_index.set_index('word')"
   ]
  },
  {
   "cell_type": "code",
   "execution_count": 24,
   "id": "21f96255",
   "metadata": {},
   "outputs": [],
   "source": [
    "import numpy as np\n",
    "\n",
    "idf=pd.DataFrame()\n",
    "i = []\n",
    "\n",
    "for word in vocab:\n",
    "    i.append(np.log2(len(df)/len(inverted_index.loc[word]['doc'])))"
   ]
  },
  {
   "cell_type": "code",
   "execution_count": 25,
   "id": "df9e168a",
   "metadata": {},
   "outputs": [],
   "source": [
    "idf['word'] = vocab\n",
    "idf['idf'] = i"
   ]
  },
  {
   "cell_type": "code",
   "execution_count": 26,
   "id": "fd95a664",
   "metadata": {},
   "outputs": [
    {
     "data": {
      "text/html": [
       "<div>\n",
       "<style scoped>\n",
       "    .dataframe tbody tr th:only-of-type {\n",
       "        vertical-align: middle;\n",
       "    }\n",
       "\n",
       "    .dataframe tbody tr th {\n",
       "        vertical-align: top;\n",
       "    }\n",
       "\n",
       "    .dataframe thead th {\n",
       "        text-align: right;\n",
       "    }\n",
       "</style>\n",
       "<table border=\"1\" class=\"dataframe\">\n",
       "  <thead>\n",
       "    <tr style=\"text-align: right;\">\n",
       "      <th></th>\n",
       "      <th>word</th>\n",
       "      <th>idf</th>\n",
       "    </tr>\n",
       "  </thead>\n",
       "  <tbody>\n",
       "    <tr>\n",
       "      <th>0</th>\n",
       "      <td>bengal</td>\n",
       "      <td>8.517013</td>\n",
       "    </tr>\n",
       "    <tr>\n",
       "      <th>1</th>\n",
       "      <td>tiger</td>\n",
       "      <td>4.057582</td>\n",
       "    </tr>\n",
       "    <tr>\n",
       "      <th>2</th>\n",
       "      <td>close-up</td>\n",
       "      <td>7.517013</td>\n",
       "    </tr>\n",
       "    <tr>\n",
       "      <th>3</th>\n",
       "      <td>photography</td>\n",
       "      <td>3.709658</td>\n",
       "    </tr>\n",
       "    <tr>\n",
       "      <th>4</th>\n",
       "      <td>brown</td>\n",
       "      <td>1.234697</td>\n",
       "    </tr>\n",
       "  </tbody>\n",
       "</table>\n",
       "</div>"
      ],
      "text/plain": [
       "          word       idf\n",
       "0       bengal  8.517013\n",
       "1        tiger  4.057582\n",
       "2     close-up  7.517013\n",
       "3  photography  3.709658\n",
       "4        brown  1.234697"
      ]
     },
     "execution_count": 26,
     "metadata": {},
     "output_type": "execute_result"
    }
   ],
   "source": [
    "idf.head()"
   ]
  },
  {
   "cell_type": "code",
   "execution_count": 27,
   "id": "e5ae808a",
   "metadata": {},
   "outputs": [],
   "source": [
    "idf = idf.set_index('word')"
   ]
  },
  {
   "cell_type": "code",
   "execution_count": 28,
   "id": "b530b6e8",
   "metadata": {},
   "outputs": [],
   "source": [
    "df = df.set_index('id')"
   ]
  },
  {
   "cell_type": "markdown",
   "id": "492802ed",
   "metadata": {},
   "source": [
    "##### Calculating the average document length"
   ]
  },
  {
   "cell_type": "code",
   "execution_count": 29,
   "id": "7ff31545",
   "metadata": {},
   "outputs": [],
   "source": [
    "addition = 0\n",
    "for doc in df['text']:\n",
    "    addition += len(doc)\n",
    "avg_l = addition/len(df)"
   ]
  },
  {
   "cell_type": "code",
   "execution_count": 30,
   "id": "9d98492c",
   "metadata": {},
   "outputs": [
    {
     "data": {
      "text/plain": [
       "7.110100090991811"
      ]
     },
     "execution_count": 30,
     "metadata": {},
     "output_type": "execute_result"
    }
   ],
   "source": [
    "avg_l"
   ]
  },
  {
   "cell_type": "code",
   "execution_count": 31,
   "id": "65b6ad77",
   "metadata": {},
   "outputs": [],
   "source": [
    "# df = df.set_index(\"id\")"
   ]
  },
  {
   "cell_type": "markdown",
   "id": "3401259a",
   "metadata": {},
   "source": [
    "### BM25 Formula"
   ]
  },
  {
   "cell_type": "code",
   "execution_count": 32,
   "id": "b72bdcf7",
   "metadata": {},
   "outputs": [],
   "source": [
    "def BM25 (query):\n",
    "    bm = {}\n",
    "    for term in query:\n",
    "        if term not in inverted_index.index:\n",
    "            continue\n",
    "        for i in range (0, len(inverted_index.loc[term]['doc'])):\n",
    "            if inverted_index.loc[term]['doc'][i] not in bm:\n",
    "                bm[inverted_index.loc[term]['doc'][i]] = 0\n",
    "            bm[inverted_index.loc[term]['doc'][i]] += (idf.loc[term]['idf'] * ((inverted_index.loc[term]['frequency'][i] * 2.5)))/((inverted_index.loc[term]['frequency'][i] + (2 * ((1 - 0.75) + 0.75 * (len(df.loc[inverted_index.loc[term]['doc'][i]])/avg_l)))))\n",
    "    #print(bm)\n",
    "    bm = sorted(bm.items(), key=lambda x: x[1], reverse=True)\n",
    "    return bm"
   ]
  },
  {
   "cell_type": "code",
   "execution_count": 33,
   "id": "0031c721",
   "metadata": {},
   "outputs": [
    {
     "data": {
      "text/plain": [
       "[('tiger10', 14.200717086403948),\n",
       " ('tiger32', 14.200717086403948),\n",
       " ('tiger48', 14.200717086403948),\n",
       " ('cat74', 11.6311308121644),\n",
       " ('cat111', 11.6311308121644),\n",
       " ('cat128', 11.6311308121644),\n",
       " ('tiger23', 7.995083376402113),\n",
       " ('tiger31', 7.995083376402113),\n",
       " ('tiger66', 7.995083376402113),\n",
       " ('tiger1', 7.592964591357219),\n",
       " ('tiger2', 7.592964591357219),\n",
       " ('tiger3', 7.592964591357219),\n",
       " ('tiger5', 7.592964591357219),\n",
       " ('tiger6', 7.592964591357219),\n",
       " ('tiger7', 7.592964591357219),\n",
       " ('tiger8', 7.592964591357219),\n",
       " ('tiger9', 7.592964591357219),\n",
       " ('tiger11', 7.592964591357219),\n",
       " ('tiger12', 7.592964591357219),\n",
       " ('tiger13', 7.592964591357219),\n",
       " ('tiger14', 7.592964591357219),\n",
       " ('tiger15', 7.592964591357219),\n",
       " ('tiger16', 7.592964591357219),\n",
       " ('tiger17', 7.592964591357219),\n",
       " ('tiger22', 7.592964591357219),\n",
       " ('tiger24', 7.592964591357219),\n",
       " ('tiger25', 7.592964591357219),\n",
       " ('tiger26', 7.592964591357219),\n",
       " ('tiger27', 7.592964591357219),\n",
       " ('tiger28', 7.592964591357219),\n",
       " ('tiger29', 7.592964591357219),\n",
       " ('tiger30', 7.592964591357219),\n",
       " ('tiger33', 7.592964591357219),\n",
       " ('tiger35', 7.592964591357219),\n",
       " ('tiger36', 7.592964591357219),\n",
       " ('tiger37', 7.592964591357219),\n",
       " ('tiger38', 7.592964591357219),\n",
       " ('tiger39', 7.592964591357219),\n",
       " ('tiger40', 7.592964591357219),\n",
       " ('tiger41', 7.592964591357219),\n",
       " ('tiger46', 7.592964591357219),\n",
       " ('tiger47', 7.592964591357219),\n",
       " ('tiger49', 7.592964591357219),\n",
       " ('tiger50', 7.592964591357219),\n",
       " ('tiger51', 7.592964591357219),\n",
       " ('tiger52', 7.592964591357219),\n",
       " ('tiger53', 7.592964591357219),\n",
       " ('tiger55', 7.592964591357219),\n",
       " ('tiger56', 7.592964591357219),\n",
       " ('tiger57', 7.592964591357219),\n",
       " ('tiger58', 7.592964591357219),\n",
       " ('tiger59', 7.592964591357219),\n",
       " ('tiger60', 7.592964591357219),\n",
       " ('tiger61', 7.592964591357219),\n",
       " ('tiger63', 7.592964591357219),\n",
       " ('tiger64', 7.592964591357219),\n",
       " ('tiger65', 7.592964591357219),\n",
       " ('tiger4', 7.00570270250059),\n",
       " ('tiger18', 7.00570270250059),\n",
       " ('tiger19', 7.00570270250059),\n",
       " ('tiger20', 7.00570270250059),\n",
       " ('tiger21', 7.00570270250059),\n",
       " ('tiger34', 7.00570270250059),\n",
       " ('tiger42', 7.00570270250059),\n",
       " ('tiger43', 7.00570270250059),\n",
       " ('tiger44', 7.00570270250059),\n",
       " ('tiger45', 7.00570270250059),\n",
       " ('tiger54', 7.00570270250059),\n",
       " ('tiger62', 7.00570270250059),\n",
       " ('monkey400', 6.607752495046729),\n",
       " ('monkey418', 6.607752495046729),\n",
       " ('monkey442', 6.607752495046729),\n",
       " ('kangaroo519', 6.607752495046729),\n",
       " ('kangaroo540', 6.607752495046729),\n",
       " ('kangaroo569', 6.607752495046729),\n",
       " ('frog841', 6.607752495046729),\n",
       " ('frog861', 6.607752495046729),\n",
       " ('frog890', 6.607752495046729),\n",
       " ('horse208', 5.023378317117671),\n",
       " ('horse216', 5.023378317117671),\n",
       " ('horse217', 5.023378317117671),\n",
       " ('horse233', 5.023378317117671),\n",
       " ('horse234', 5.023378317117671),\n",
       " ('horse241', 5.023378317117671),\n",
       " ('horse258', 5.023378317117671),\n",
       " ('horse260', 5.023378317117671),\n",
       " ('horse262', 5.023378317117671),\n",
       " ('rhino334', 5.023378317117671),\n",
       " ('rhino351', 5.023378317117671),\n",
       " ('rhino381', 5.023378317117671),\n",
       " ('monkey388', 5.023378317117671),\n",
       " ('monkey390', 5.023378317117671),\n",
       " ('monkey414', 5.023378317117671),\n",
       " ('monkey416', 5.023378317117671),\n",
       " ('monkey433', 5.023378317117671),\n",
       " ('monkey437', 5.023378317117671),\n",
       " ('kangaroo529', 5.023378317117671),\n",
       " ('kangaroo547', 5.023378317117671),\n",
       " ('kangaroo570', 5.023378317117671),\n",
       " ('bear594', 5.023378317117671),\n",
       " ('bear601', 5.023378317117671),\n",
       " ('bear626', 5.023378317117671),\n",
       " ('giraffe658', 5.023378317117671),\n",
       " ('giraffe676', 5.023378317117671),\n",
       " ('giraffe702', 5.023378317117671),\n",
       " ('frog848', 5.023378317117671),\n",
       " ('frog860', 5.023378317117671),\n",
       " ('frog886', 5.023378317117671),\n",
       " ('squirrel1047', 5.023378317117671),\n",
       " ('squirrel1048', 5.023378317117671),\n",
       " ('squirrel1049', 5.023378317117671),\n",
       " ('squirrel1060', 5.023378317117671),\n",
       " ('squirrel1067', 5.023378317117671),\n",
       " ('squirrel1074', 5.023378317117671),\n",
       " ('squirrel1088', 5.023378317117671),\n",
       " ('squirrel1090', 5.023378317117671),\n",
       " ('squirrel1092', 5.023378317117671)]"
      ]
     },
     "execution_count": 33,
     "metadata": {},
     "output_type": "execute_result"
    }
   ],
   "source": [
    "BM25(q)"
   ]
  },
  {
   "cell_type": "code",
   "execution_count": 34,
   "id": "be574932",
   "metadata": {},
   "outputs": [
    {
     "data": {
      "text/plain": [
       "['close', 'photo', 'tabby', 'cat', 'cat', 'cat', 'cat']"
      ]
     },
     "execution_count": 34,
     "metadata": {},
     "output_type": "execute_result"
    }
   ],
   "source": [
    "df.loc['cat74']['text']"
   ]
  },
  {
   "cell_type": "code",
   "execution_count": 35,
   "id": "222ab1f6",
   "metadata": {},
   "outputs": [],
   "source": [
    "def sim(query):\n",
    "    query = query.lower()\n",
    "    query = lem(str(query))\n",
    "    query = [word for word in query if word not in stopwords]\n",
    "    \n",
    "    result = BM25(query)\n",
    "    im_ls = []\n",
    "    im = 0\n",
    "    while im < len(result):\n",
    "        if len(im_ls) < 50:\n",
    "            im_ls.append(df.loc[result[im][0]]['links'])\n",
    "            im = im+3\n",
    "    return im_ls"
   ]
  },
  {
   "cell_type": "code",
   "execution_count": 36,
   "id": "4c069dae",
   "metadata": {},
   "outputs": [
    {
     "data": {
      "text/plain": [
       "22"
      ]
     },
     "execution_count": 36,
     "metadata": {},
     "output_type": "execute_result"
    }
   ],
   "source": [
    "len(sim('the tongue of tiger'))"
   ]
  },
  {
   "cell_type": "code",
   "execution_count": 37,
   "id": "f7e4c0aa",
   "metadata": {},
   "outputs": [
    {
     "data": {
      "text/plain": [
       "['two',\n",
       " 'grey',\n",
       " 'elephant',\n",
       " 'grass',\n",
       " 'plain',\n",
       " 'sunset',\n",
       " 'elephant',\n",
       " 'elephant',\n",
       " 'elephant']"
      ]
     },
     "execution_count": 37,
     "metadata": {},
     "output_type": "execute_result"
    }
   ],
   "source": [
    "df.loc['elephant265']['text']"
   ]
  },
  {
   "cell_type": "code",
   "execution_count": 38,
   "id": "ae1cc5b5",
   "metadata": {},
   "outputs": [
    {
     "name": "stdout",
     "output_type": "stream",
     "text": [
      "Anvil websocket closed (code 1006, reason=Going away)\n",
      "Reconnecting Anvil Uplink...\n",
      "Connecting to wss://anvil.works/uplink\n",
      "Reconnection failed. Waiting 10 seconds, then retrying.\n"
     ]
    }
   ],
   "source": [
    "import anvil.media\n",
    "\n",
    "@anvil.server.callable\n",
    "def get_sem(text):\n",
    "    return sim(text)"
   ]
  },
  {
   "cell_type": "code",
   "execution_count": null,
   "id": "7fe1736f",
   "metadata": {},
   "outputs": [],
   "source": []
  }
 ],
 "metadata": {
  "kernelspec": {
   "display_name": "Python 3",
   "language": "python",
   "name": "python3"
  },
  "language_info": {
   "codemirror_mode": {
    "name": "ipython",
    "version": 3
   },
   "file_extension": ".py",
   "mimetype": "text/x-python",
   "name": "python",
   "nbconvert_exporter": "python",
   "pygments_lexer": "ipython3",
   "version": "3.8.8"
  }
 },
 "nbformat": 4,
 "nbformat_minor": 5
}
